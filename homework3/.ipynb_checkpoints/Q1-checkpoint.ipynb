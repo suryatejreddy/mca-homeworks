{
 "cells": [
  {
   "cell_type": "code",
   "execution_count": 1,
   "metadata": {},
   "outputs": [],
   "source": [
    "import re\n",
    "from nltk.tokenize import RegexpTokenizer\n",
    "from nltk.corpus.util import LazyCorpusLoader\n",
    "from nltk.corpus.reader import *\n",
    "from collections import defaultdict\n",
    "from tqdm import tqdm"
   ]
  },
  {
   "cell_type": "code",
   "execution_count": 2,
   "metadata": {},
   "outputs": [
    {
     "name": "stderr",
     "output_type": "stream",
     "text": [
      " 10%|▉         | 2796/29059 [08:27<1:22:43,  5.29it/s] "
     ]
    },
    {
     "ename": "KeyboardInterrupt",
     "evalue": "",
     "output_type": "error",
     "traceback": [
      "\u001b[0;31m---------------------------------------------------------------------------\u001b[0m",
      "\u001b[0;31mKeyboardInterrupt\u001b[0m                         Traceback (most recent call last)",
      "\u001b[0;32m<ipython-input-2-929cf113b6ca>\u001b[0m in \u001b[0;36m<module>\u001b[0;34m\u001b[0m\n\u001b[1;32m     45\u001b[0m     \u001b[0;32mreturn\u001b[0m \u001b[0mtraining_data\u001b[0m\u001b[0;34m\u001b[0m\u001b[0;34m\u001b[0m\u001b[0m\n\u001b[1;32m     46\u001b[0m \u001b[0;34m\u001b[0m\u001b[0m\n\u001b[0;32m---> 47\u001b[0;31m \u001b[0mtraining_data\u001b[0m \u001b[0;34m=\u001b[0m \u001b[0mload_data\u001b[0m\u001b[0;34m(\u001b[0m\u001b[0;34m)\u001b[0m\u001b[0;34m\u001b[0m\u001b[0;34m\u001b[0m\u001b[0m\n\u001b[0m",
      "\u001b[0;32m<ipython-input-2-929cf113b6ca>\u001b[0m in \u001b[0;36mload_data\u001b[0;34m()\u001b[0m\n\u001b[1;32m     39\u001b[0m                 \u001b[0;32mif\u001b[0m \u001b[0mindex\u001b[0m \u001b[0;34m>=\u001b[0m \u001b[0;36m0\u001b[0m  \u001b[0;32mand\u001b[0m \u001b[0mindex\u001b[0m \u001b[0;34m<\u001b[0m \u001b[0mlength\u001b[0m\u001b[0;34m:\u001b[0m\u001b[0;34m\u001b[0m\u001b[0;34m\u001b[0m\u001b[0m\n\u001b[1;32m     40\u001b[0m                     \u001b[0mcontext_word\u001b[0m \u001b[0;34m=\u001b[0m \u001b[0msentence\u001b[0m\u001b[0;34m[\u001b[0m\u001b[0mindex\u001b[0m\u001b[0;34m]\u001b[0m\u001b[0;34m\u001b[0m\u001b[0;34m\u001b[0m\u001b[0m\n\u001b[0;32m---> 41\u001b[0;31m                     \u001b[0mcontext_word_vector\u001b[0m \u001b[0;34m=\u001b[0m \u001b[0;34m[\u001b[0m\u001b[0;36m0\u001b[0m \u001b[0;32mfor\u001b[0m \u001b[0mi\u001b[0m \u001b[0;32min\u001b[0m \u001b[0mrange\u001b[0m\u001b[0;34m(\u001b[0m\u001b[0mvocab_size\u001b[0m\u001b[0;34m)\u001b[0m\u001b[0;34m]\u001b[0m\u001b[0;34m\u001b[0m\u001b[0;34m\u001b[0m\u001b[0m\n\u001b[0m\u001b[1;32m     42\u001b[0m                     \u001b[0mcontext_word_vector\u001b[0m\u001b[0;34m[\u001b[0m\u001b[0mword_to_num\u001b[0m\u001b[0;34m[\u001b[0m\u001b[0mcontext_word\u001b[0m\u001b[0;34m]\u001b[0m\u001b[0;34m]\u001b[0m \u001b[0;34m=\u001b[0m \u001b[0;36m1\u001b[0m\u001b[0;34m\u001b[0m\u001b[0;34m\u001b[0m\u001b[0m\n\u001b[1;32m     43\u001b[0m                     \u001b[0mcontext_vector\u001b[0m\u001b[0;34m.\u001b[0m\u001b[0mappend\u001b[0m\u001b[0;34m(\u001b[0m\u001b[0mcontext_word\u001b[0m\u001b[0;34m)\u001b[0m\u001b[0;34m\u001b[0m\u001b[0;34m\u001b[0m\u001b[0m\n",
      "\u001b[0;31mKeyboardInterrupt\u001b[0m: "
     ]
    }
   ],
   "source": [
    "def load_data():\n",
    "    abc = LazyCorpusLoader(\n",
    "        \"abc\",\n",
    "        PlaintextCorpusReader,\n",
    "        r\"(?!\\.).*\\.txt\",\n",
    "        encoding=[(\"science\", \"latin_1\"), (\"rural\", \"utf8\")],\n",
    "    )\n",
    "    \n",
    "    raw = abc.sents()\n",
    "    sentences = []\n",
    "    for s in raw:\n",
    "        words = []\n",
    "        for w in s:\n",
    "            if w.isalpha():\n",
    "                words.append(w.lower())\n",
    "        sentences.append(words)\n",
    "    \n",
    "    word_counts = defaultdict(int)\n",
    "    for sentence in sentences:\n",
    "        for word in sentence:\n",
    "            word_counts[word] += 1\n",
    "    \n",
    "    vocabulary = list(word_counts.keys())\n",
    "    vocab_size = len(vocabulary)\n",
    "    word_to_num = {word : n for n, word in enumerate(word_counts)}\n",
    "    num_to_word = {n : word for n, word in enumerate(word_counts)}\n",
    "    \n",
    "    sums = [-2,-1,1,2]\n",
    "    training_data = []\n",
    "    for sentence in tqdm(sentences):\n",
    "        length = len(sentence)\n",
    "        for cur_index in range(length):\n",
    "            cur_word = sentence[cur_index]\n",
    "            cur_word_vector = [0 for i in range(vocab_size)]\n",
    "            cur_word_vector[word_to_num[cur_word]] = 1\n",
    "            context_vector = []\n",
    "            for diff in sums:\n",
    "                index = cur_index + diff\n",
    "                if index >= 0  and index < length:\n",
    "                    context_word = sentence[index]\n",
    "                    context_word_vector = [0 for i in range(vocab_size)]\n",
    "                    context_word_vector[word_to_num[context_word]] = 1\n",
    "                    context_vector.append(context_word)\n",
    "            training_data.append([context_vector, cur_word_vector])\n",
    "    return training_data\n",
    "\n",
    "training_data = load_data()"
   ]
  },
  {
   "cell_type": "code",
   "execution_count": null,
   "metadata": {},
   "outputs": [],
   "source": []
  }
 ],
 "metadata": {
  "kernelspec": {
   "display_name": "Python 3",
   "language": "python",
   "name": "python3"
  },
  "language_info": {
   "codemirror_mode": {
    "name": "ipython",
    "version": 3
   },
   "file_extension": ".py",
   "mimetype": "text/x-python",
   "name": "python",
   "nbconvert_exporter": "python",
   "pygments_lexer": "ipython3",
   "version": "3.7.5"
  }
 },
 "nbformat": 4,
 "nbformat_minor": 2
}
